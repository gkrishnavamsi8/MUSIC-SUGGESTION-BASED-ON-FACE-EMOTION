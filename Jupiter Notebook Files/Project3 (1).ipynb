{
 "cells": [
  {
   "cell_type": "code",
   "execution_count": 15,
   "metadata": {},
   "outputs": [],
   "source": [
    "import numpy as np\n",
    "import pandas as pd\n",
    "import matplotlib.pyplot as plt\n",
    "import seaborn as sns\n",
    "\n",
    "%matplotlib inline\n",
    "\n",
    "import os\n",
    "import warnings\n",
    "warnings.filterwarnings('ignore')"
   ]
  },
  {
   "cell_type": "code",
   "execution_count": 16,
   "metadata": {},
   "outputs": [],
   "source": [
    "dataset = pd.read_csv('D:\\Semester\\SEM 4\\Emotion_features.csv')"
   ]
  },
  {
   "cell_type": "code",
   "execution_count": 17,
   "metadata": {},
   "outputs": [
    {
     "data": {
      "text/html": [
       "<div>\n",
       "<style scoped>\n",
       "    .dataframe tbody tr th:only-of-type {\n",
       "        vertical-align: middle;\n",
       "    }\n",
       "\n",
       "    .dataframe tbody tr th {\n",
       "        vertical-align: top;\n",
       "    }\n",
       "\n",
       "    .dataframe thead th {\n",
       "        text-align: right;\n",
       "    }\n",
       "</style>\n",
       "<table border=\"1\" class=\"dataframe\">\n",
       "  <thead>\n",
       "    <tr style=\"text-align: right;\">\n",
       "      <th></th>\n",
       "      <th>id</th>\n",
       "      <th>song_name</th>\n",
       "      <th>class</th>\n",
       "      <th>label</th>\n",
       "      <th>tempo</th>\n",
       "      <th>total_beats</th>\n",
       "      <th>average_beats</th>\n",
       "      <th>chroma_stft_mean</th>\n",
       "      <th>chroma_stft_std</th>\n",
       "      <th>chroma_stft_var</th>\n",
       "      <th>...</th>\n",
       "      <th>zcr_var</th>\n",
       "      <th>harm_mean</th>\n",
       "      <th>harm_std</th>\n",
       "      <th>harm_var</th>\n",
       "      <th>perc_mean</th>\n",
       "      <th>perc_std</th>\n",
       "      <th>perc_var</th>\n",
       "      <th>frame_mean</th>\n",
       "      <th>frame_std</th>\n",
       "      <th>frame_var</th>\n",
       "    </tr>\n",
       "  </thead>\n",
       "  <tbody>\n",
       "    <tr>\n",
       "      <th>0</th>\n",
       "      <td>1</td>\n",
       "      <td>30 seconds to Mars - Night of the Hunter.mp3</td>\n",
       "      <td>relax</td>\n",
       "      <td>3</td>\n",
       "      <td>117.453835</td>\n",
       "      <td>139925</td>\n",
       "      <td>1283.715596</td>\n",
       "      <td>0.422269</td>\n",
       "      <td>0.293326</td>\n",
       "      <td>0.086040</td>\n",
       "      <td>...</td>\n",
       "      <td>0.007792</td>\n",
       "      <td>0.000001</td>\n",
       "      <td>0.131658</td>\n",
       "      <td>0.017334</td>\n",
       "      <td>0.000142</td>\n",
       "      <td>0.095362</td>\n",
       "      <td>0.009094</td>\n",
       "      <td>4.221388</td>\n",
       "      <td>1.601396</td>\n",
       "      <td>2.564469</td>\n",
       "    </tr>\n",
       "    <tr>\n",
       "      <th>1</th>\n",
       "      <td>2</td>\n",
       "      <td>Absolutely - Story of A Girl.mp3</td>\n",
       "      <td>sad</td>\n",
       "      <td>1</td>\n",
       "      <td>129.199219</td>\n",
       "      <td>159877</td>\n",
       "      <td>1268.865079</td>\n",
       "      <td>0.425321</td>\n",
       "      <td>0.289704</td>\n",
       "      <td>0.083929</td>\n",
       "      <td>...</td>\n",
       "      <td>0.008534</td>\n",
       "      <td>-0.000003</td>\n",
       "      <td>0.169204</td>\n",
       "      <td>0.028630</td>\n",
       "      <td>0.000006</td>\n",
       "      <td>0.099145</td>\n",
       "      <td>0.009830</td>\n",
       "      <td>3.246150</td>\n",
       "      <td>1.885735</td>\n",
       "      <td>3.555996</td>\n",
       "    </tr>\n",
       "    <tr>\n",
       "      <th>2</th>\n",
       "      <td>3</td>\n",
       "      <td>Ace - Futureland.mp3</td>\n",
       "      <td>happy</td>\n",
       "      <td>2</td>\n",
       "      <td>99.384014</td>\n",
       "      <td>121594</td>\n",
       "      <td>1253.546392</td>\n",
       "      <td>0.487377</td>\n",
       "      <td>0.268670</td>\n",
       "      <td>0.072184</td>\n",
       "      <td>...</td>\n",
       "      <td>0.006199</td>\n",
       "      <td>0.000019</td>\n",
       "      <td>0.206916</td>\n",
       "      <td>0.042814</td>\n",
       "      <td>-0.000077</td>\n",
       "      <td>0.115425</td>\n",
       "      <td>0.013323</td>\n",
       "      <td>3.989188</td>\n",
       "      <td>1.766115</td>\n",
       "      <td>3.119163</td>\n",
       "    </tr>\n",
       "    <tr>\n",
       "      <th>3</th>\n",
       "      <td>4</td>\n",
       "      <td>Alan Walker - Faded.mp3</td>\n",
       "      <td>sad</td>\n",
       "      <td>1</td>\n",
       "      <td>89.102909</td>\n",
       "      <td>113611</td>\n",
       "      <td>1291.034091</td>\n",
       "      <td>0.292934</td>\n",
       "      <td>0.295695</td>\n",
       "      <td>0.087435</td>\n",
       "      <td>...</td>\n",
       "      <td>0.002483</td>\n",
       "      <td>-0.000020</td>\n",
       "      <td>0.184177</td>\n",
       "      <td>0.033921</td>\n",
       "      <td>-0.000003</td>\n",
       "      <td>0.055471</td>\n",
       "      <td>0.003077</td>\n",
       "      <td>3.423782</td>\n",
       "      <td>1.922333</td>\n",
       "      <td>3.695364</td>\n",
       "    </tr>\n",
       "    <tr>\n",
       "      <th>4</th>\n",
       "      <td>5</td>\n",
       "      <td>Alan Walker - Force [Instrumental].mp3</td>\n",
       "      <td>relax</td>\n",
       "      <td>3</td>\n",
       "      <td>198.768029</td>\n",
       "      <td>252770</td>\n",
       "      <td>1404.277778</td>\n",
       "      <td>0.286669</td>\n",
       "      <td>0.300049</td>\n",
       "      <td>0.090029</td>\n",
       "      <td>...</td>\n",
       "      <td>0.002977</td>\n",
       "      <td>0.000014</td>\n",
       "      <td>0.147811</td>\n",
       "      <td>0.021848</td>\n",
       "      <td>0.000307</td>\n",
       "      <td>0.048204</td>\n",
       "      <td>0.002324</td>\n",
       "      <td>9.637442</td>\n",
       "      <td>7.344525</td>\n",
       "      <td>53.942050</td>\n",
       "    </tr>\n",
       "  </tbody>\n",
       "</table>\n",
       "<p>5 rows × 58 columns</p>\n",
       "</div>"
      ],
      "text/plain": [
       "   id                                     song_name  class  label       tempo  \\\n",
       "0   1  30 seconds to Mars - Night of the Hunter.mp3  relax      3  117.453835   \n",
       "1   2              Absolutely - Story of A Girl.mp3    sad      1  129.199219   \n",
       "2   3                          Ace - Futureland.mp3  happy      2   99.384014   \n",
       "3   4                       Alan Walker - Faded.mp3    sad      1   89.102909   \n",
       "4   5        Alan Walker - Force [Instrumental].mp3  relax      3  198.768029   \n",
       "\n",
       "   total_beats  average_beats  chroma_stft_mean  chroma_stft_std  \\\n",
       "0       139925    1283.715596          0.422269         0.293326   \n",
       "1       159877    1268.865079          0.425321         0.289704   \n",
       "2       121594    1253.546392          0.487377         0.268670   \n",
       "3       113611    1291.034091          0.292934         0.295695   \n",
       "4       252770    1404.277778          0.286669         0.300049   \n",
       "\n",
       "   chroma_stft_var  ...   zcr_var  harm_mean  harm_std  harm_var  perc_mean  \\\n",
       "0         0.086040  ...  0.007792   0.000001  0.131658  0.017334   0.000142   \n",
       "1         0.083929  ...  0.008534  -0.000003  0.169204  0.028630   0.000006   \n",
       "2         0.072184  ...  0.006199   0.000019  0.206916  0.042814  -0.000077   \n",
       "3         0.087435  ...  0.002483  -0.000020  0.184177  0.033921  -0.000003   \n",
       "4         0.090029  ...  0.002977   0.000014  0.147811  0.021848   0.000307   \n",
       "\n",
       "   perc_std  perc_var  frame_mean  frame_std  frame_var  \n",
       "0  0.095362  0.009094    4.221388   1.601396   2.564469  \n",
       "1  0.099145  0.009830    3.246150   1.885735   3.555996  \n",
       "2  0.115425  0.013323    3.989188   1.766115   3.119163  \n",
       "3  0.055471  0.003077    3.423782   1.922333   3.695364  \n",
       "4  0.048204  0.002324    9.637442   7.344525  53.942050  \n",
       "\n",
       "[5 rows x 58 columns]"
      ]
     },
     "execution_count": 17,
     "metadata": {},
     "output_type": "execute_result"
    }
   ],
   "source": [
    "dataset.head()"
   ]
  },
  {
   "cell_type": "markdown",
   "metadata": {},
   "source": [
    "1 - Sad       \n",
    "2 - Happy      \n",
    "3 - Relax     \n",
    "        4 - Angry "
   ]
  },
  {
   "cell_type": "code",
   "execution_count": 18,
   "metadata": {},
   "outputs": [
    {
     "name": "stdout",
     "output_type": "stream",
     "text": [
      "<class 'pandas.core.frame.DataFrame'>\n",
      "RangeIndex: 75 entries, 0 to 74\n",
      "Data columns (total 58 columns):\n",
      " #   Column               Non-Null Count  Dtype  \n",
      "---  ------               --------------  -----  \n",
      " 0   id                   75 non-null     int64  \n",
      " 1   song_name            75 non-null     object \n",
      " 2   class                75 non-null     object \n",
      " 3   label                75 non-null     int64  \n",
      " 4   tempo                75 non-null     float64\n",
      " 5   total_beats          75 non-null     int64  \n",
      " 6   average_beats        75 non-null     float64\n",
      " 7   chroma_stft_mean     75 non-null     float64\n",
      " 8   chroma_stft_std      75 non-null     float64\n",
      " 9   chroma_stft_var      75 non-null     float64\n",
      " 10  chroma_cq_mean       75 non-null     float64\n",
      " 11  chroma_cq_std        75 non-null     float64\n",
      " 12  chroma_cq_var        75 non-null     float64\n",
      " 13  chroma_cens_mean     75 non-null     float64\n",
      " 14  chroma_cens_std      75 non-null     float64\n",
      " 15  chroma_cens_var      75 non-null     float64\n",
      " 16  melspectrogram_mean  75 non-null     float64\n",
      " 17  melspectrogram_std   75 non-null     float64\n",
      " 18  melspectrogram_var   75 non-null     float64\n",
      " 19  mfcc_mean            75 non-null     float64\n",
      " 20  mfcc_std             75 non-null     float64\n",
      " 21  mfcc_var             75 non-null     float64\n",
      " 22  mfcc_delta_mean      75 non-null     float64\n",
      " 23  mfcc_delta_std       75 non-null     float64\n",
      " 24  mfcc_delta_var       75 non-null     float64\n",
      " 25  rmse_mean            75 non-null     float64\n",
      " 26  rmse_std             75 non-null     float64\n",
      " 27  rmse_var             75 non-null     float64\n",
      " 28  cent_mean            75 non-null     float64\n",
      " 29  cent_std             75 non-null     float64\n",
      " 30  cent_var             75 non-null     float64\n",
      " 31  spec_bw_mean         75 non-null     float64\n",
      " 32  spec_bw_std          75 non-null     float64\n",
      " 33  spec_bw_var          75 non-null     float64\n",
      " 34  contrast_mean        75 non-null     float64\n",
      " 35  contrast_std         75 non-null     float64\n",
      " 36  contrast_var         75 non-null     float64\n",
      " 37  rolloff_mean         75 non-null     float64\n",
      " 38  rolloff_std          75 non-null     float64\n",
      " 39  rolloff_var          75 non-null     float64\n",
      " 40  poly_mean            75 non-null     float64\n",
      " 41  poly_std             75 non-null     float64\n",
      " 42  poly_var             75 non-null     float64\n",
      " 43  tonnetz_mean         75 non-null     float64\n",
      " 44  tonnetz_std          75 non-null     float64\n",
      " 45  tonnetz_var          75 non-null     float64\n",
      " 46  zcr_mean             75 non-null     float64\n",
      " 47  zcr_std              75 non-null     float64\n",
      " 48  zcr_var              75 non-null     float64\n",
      " 49  harm_mean            75 non-null     float64\n",
      " 50  harm_std             75 non-null     float64\n",
      " 51  harm_var             75 non-null     float64\n",
      " 52  perc_mean            75 non-null     float64\n",
      " 53  perc_std             75 non-null     float64\n",
      " 54  perc_var             75 non-null     float64\n",
      " 55  frame_mean           75 non-null     float64\n",
      " 56  frame_std            75 non-null     float64\n",
      " 57  frame_var            75 non-null     float64\n",
      "dtypes: float64(53), int64(3), object(2)\n",
      "memory usage: 34.1+ KB\n"
     ]
    }
   ],
   "source": [
    "dataset.info()"
   ]
  },
  {
   "cell_type": "code",
   "execution_count": 19,
   "metadata": {},
   "outputs": [
    {
     "data": {
      "text/plain": [
       "(75, 58)"
      ]
     },
     "execution_count": 19,
     "metadata": {},
     "output_type": "execute_result"
    }
   ],
   "source": [
    "dataset.shape"
   ]
  },
  {
   "cell_type": "code",
   "execution_count": 20,
   "metadata": {},
   "outputs": [
    {
     "data": {
      "text/plain": [
       "count    75.000000\n",
       "mean      2.266667\n",
       "std       1.119041\n",
       "min       1.000000\n",
       "25%       1.000000\n",
       "50%       2.000000\n",
       "75%       3.000000\n",
       "max       4.000000\n",
       "Name: label, dtype: float64"
      ]
     },
     "execution_count": 20,
     "metadata": {},
     "output_type": "execute_result"
    }
   ],
   "source": [
    "dataset['label'].describe()"
   ]
  },
  {
   "cell_type": "code",
   "execution_count": 21,
   "metadata": {},
   "outputs": [
    {
     "data": {
      "text/plain": [
       "array([3, 1, 2, 4], dtype=int64)"
      ]
     },
     "execution_count": 21,
     "metadata": {},
     "output_type": "execute_result"
    }
   ],
   "source": [
    "dataset[\"label\"].unique()"
   ]
  },
  {
   "cell_type": "markdown",
   "metadata": {},
   "source": [
    "Correlation"
   ]
  },
  {
   "cell_type": "code",
   "execution_count": 22,
   "metadata": {},
   "outputs": [
    {
     "name": "stdout",
     "output_type": "stream",
     "text": [
      "label                  1.000000\n",
      "chroma_stft_mean       0.398708\n",
      "contrast_mean          0.396730\n",
      "tonnetz_std            0.391225\n",
      "tonnetz_var            0.377318\n",
      "chroma_cens_std        0.372121\n",
      "chroma_cens_var        0.369683\n",
      "chroma_cq_mean         0.368606\n",
      "chroma_cens_mean       0.363385\n",
      "melspectrogram_mean    0.340947\n",
      "poly_std               0.332819\n",
      "poly_mean              0.328712\n",
      "harm_var               0.327513\n",
      "chroma_cq_std          0.325405\n",
      "poly_var               0.324941\n",
      "chroma_cq_var          0.321206\n",
      "rmse_mean              0.319575\n",
      "melspectrogram_std     0.314458\n",
      "perc_std               0.304244\n",
      "mfcc_mean              0.297226\n",
      "harm_std               0.297069\n",
      "melspectrogram_var     0.266327\n",
      "perc_var               0.265060\n",
      "mfcc_std               0.258430\n",
      "rmse_std               0.257853\n",
      "mfcc_var               0.248526\n",
      "rmse_var               0.247372\n",
      "frame_mean             0.202871\n",
      "mfcc_delta_mean        0.170210\n",
      "frame_std              0.169977\n",
      "chroma_stft_var        0.163213\n",
      "chroma_stft_std        0.163186\n",
      "cent_var               0.159898\n",
      "cent_std               0.143837\n",
      "rolloff_var            0.136949\n",
      "contrast_std           0.134672\n",
      "rolloff_mean           0.133298\n",
      "frame_var              0.133021\n",
      "rolloff_std            0.131146\n",
      "cent_mean              0.115597\n",
      "spec_bw_mean           0.113540\n",
      "spec_bw_std            0.112551\n",
      "contrast_var           0.105112\n",
      "zcr_var                0.103805\n",
      "spec_bw_var            0.098768\n",
      "tonnetz_mean           0.093699\n",
      "zcr_std                0.078459\n",
      "id                     0.052084\n",
      "harm_mean              0.025113\n",
      "total_beats            0.020816\n",
      "perc_mean              0.020045\n",
      "mfcc_delta_var         0.018023\n",
      "tempo                  0.014307\n",
      "zcr_mean               0.012163\n",
      "mfcc_delta_std         0.006541\n",
      "average_beats          0.005543\n",
      "Name: label, dtype: float64\n"
     ]
    }
   ],
   "source": [
    "print(dataset.corr()[\"label\"].abs().sort_values(ascending=False))"
   ]
  },
  {
   "cell_type": "code",
   "execution_count": 23,
   "metadata": {},
   "outputs": [
    {
     "name": "stdout",
     "output_type": "stream",
     "text": [
      "2    25\n",
      "1    23\n",
      "4    16\n",
      "3    11\n",
      "Name: label, dtype: int64\n"
     ]
    },
    {
     "data": {
      "image/png": "[encoded data removed]",
      "text/plain": [
       "<Figure size 432x288 with 1 Axes>"
      ]
     },
     "metadata": {
      "needs_background": "light"
     },
     "output_type": "display_data"
    }
   ],
   "source": [
    "y = dataset[\"label\"]\n",
    "\n",
    "sns.countplot(y)\n",
    "\n",
    "\n",
    "target_temp = dataset.label.value_counts()\n",
    "\n",
    "print(target_temp)"
   ]
  },
  {
   "cell_type": "code",
   "execution_count": 24,
   "metadata": {},
   "outputs": [
    {
     "data": {
      "text/plain": [
       "2    25\n",
       "1    23\n",
       "4    16\n",
       "3    11\n",
       "Name: label, dtype: int64"
      ]
     },
     "execution_count": 24,
     "metadata": {},
     "output_type": "execute_result"
    }
   ],
   "source": [
    "target_temp"
   ]
  },
  {
   "cell_type": "code",
   "execution_count": 25,
   "metadata": {},
   "outputs": [
    {
     "name": "stdout",
     "output_type": "stream",
     "text": [
      "Percentage of Sad songs  : 30.67\n",
      "Percentage of happy songs : 33.33\n",
      "Percentage of Relax songs : 14.67\n",
      "Percentage of Angry songs : 21.33\n"
     ]
    }
   ],
   "source": [
    "print(\"Percentage of Sad songs  : \" +str(round(target_temp[1]*100/75,2)))\n",
    "print(\"Percentage of happy songs : \" +str(round(target_temp[2]*100/75,2)))\n",
    "print(\"Percentage of Relax songs : \" +str(round(target_temp[3]*100/75,2)))\n",
    "print(\"Percentage of Angry songs : \" +str(round(target_temp[4]*100/75,2)))"
   ]
  },
  {
   "cell_type": "markdown",
   "metadata": {},
   "source": [
    "Train "
   ]
  },
  {
   "cell_type": "code",
   "execution_count": 26,
   "metadata": {},
   "outputs": [],
   "source": [
    "feature = dataset.loc[:, 'tempo':]\n",
    "featureName = list(feature)"
   ]
  },
  {
   "cell_type": "code",
   "execution_count": 27,
   "metadata": {},
   "outputs": [],
   "source": [
    "for name in featureName:\n",
    "    feature[name] = (feature[name] - feature[name].min()) / (feature[name].max() - feature[name].min())"
   ]
  },
  {
   "cell_type": "code",
   "execution_count": 28,
   "metadata": {},
   "outputs": [],
   "source": [
    "from sklearn.model_selection import train_test_split\n",
    "target = dataset.loc[:, 'class'].dropna()\n",
    "X_train,X_test,Y_train,Y_test = train_test_split(feature,target,test_size=0.20,random_state=0)"
   ]
  },
  {
   "cell_type": "code",
   "execution_count": 29,
   "metadata": {},
   "outputs": [
    {
     "data": {
      "text/plain": [
       "(60, 54)"
      ]
     },
     "execution_count": 29,
     "metadata": {},
     "output_type": "execute_result"
    }
   ],
   "source": [
    "X_train.shape"
   ]
  },
  {
   "cell_type": "code",
   "execution_count": 30,
   "metadata": {},
   "outputs": [
    {
     "data": {
      "text/plain": [
       "(15, 54)"
      ]
     },
     "execution_count": 30,
     "metadata": {},
     "output_type": "execute_result"
    }
   ],
   "source": [
    "X_test.shape"
   ]
  },
  {
   "cell_type": "code",
   "execution_count": 31,
   "metadata": {},
   "outputs": [
    {
     "data": {
      "text/plain": [
       "(60,)"
      ]
     },
     "execution_count": 31,
     "metadata": {},
     "output_type": "execute_result"
    }
   ],
   "source": [
    "Y_train.shape"
   ]
  },
  {
   "cell_type": "code",
   "execution_count": 32,
   "metadata": {},
   "outputs": [
    {
     "data": {
      "text/plain": [
       "(15,)"
      ]
     },
     "execution_count": 32,
     "metadata": {},
     "output_type": "execute_result"
    }
   ],
   "source": [
    "Y_test.shape"
   ]
  },
  {
   "cell_type": "markdown",
   "metadata": {},
   "source": [
    "Model Fitting"
   ]
  },
  {
   "cell_type": "code",
   "execution_count": 33,
   "metadata": {},
   "outputs": [],
   "source": [
    "from sklearn.metrics import accuracy_score"
   ]
  },
  {
   "cell_type": "markdown",
   "metadata": {},
   "source": [
    "Logistic"
   ]
  },
  {
   "cell_type": "code",
   "execution_count": 34,
   "metadata": {},
   "outputs": [],
   "source": [
    "from sklearn.linear_model import LogisticRegression\n",
    "\n",
    "lr = LogisticRegression()\n",
    "\n",
    "lr.fit(X_train,Y_train)\n",
    "\n",
    "Y_pred_lr = lr.predict(X_test)"
   ]
  },
  {
   "cell_type": "code",
   "execution_count": 35,
   "metadata": {},
   "outputs": [
    {
     "data": {
      "text/plain": [
       "(15,)"
      ]
     },
     "execution_count": 35,
     "metadata": {},
     "output_type": "execute_result"
    }
   ],
   "source": [
    "Y_pred_lr.shape"
   ]
  },
  {
   "cell_type": "code",
   "execution_count": 36,
   "metadata": {},
   "outputs": [
    {
     "name": "stdout",
     "output_type": "stream",
     "text": [
      "The accuracy score achieved using Logistic Regression is: 60.0 %\n"
     ]
    }
   ],
   "source": [
    "score_lr = round(accuracy_score(Y_pred_lr,Y_test)*100,2)\n",
    "\n",
    "print(\"The accuracy score achieved using Logistic Regression is: \"+str(score_lr)+\" %\")"
   ]
  },
  {
   "cell_type": "markdown",
   "metadata": {},
   "source": [
    "Naive BAyers"
   ]
  },
  {
   "cell_type": "code",
   "execution_count": 37,
   "metadata": {},
   "outputs": [],
   "source": [
    "from sklearn.naive_bayes import GaussianNB\n",
    "\n",
    "nb = GaussianNB()\n",
    "\n",
    "nb.fit(X_train,Y_train)\n",
    "\n",
    "Y_pred_nb = nb.predict(X_test)"
   ]
  },
  {
   "cell_type": "code",
   "execution_count": 38,
   "metadata": {},
   "outputs": [
    {
     "data": {
      "text/plain": [
       "(15,)"
      ]
     },
     "execution_count": 38,
     "metadata": {},
     "output_type": "execute_result"
    }
   ],
   "source": [
    "Y_pred_nb.shape"
   ]
  },
  {
   "cell_type": "code",
   "execution_count": 39,
   "metadata": {},
   "outputs": [
    {
     "name": "stdout",
     "output_type": "stream",
     "text": [
      "The accuracy score achieved using Naive Bayes is: 40.0 %\n"
     ]
    }
   ],
   "source": [
    "score_nb = round(accuracy_score(Y_pred_nb,Y_test)*100,2)\n",
    "\n",
    "print(\"The accuracy score achieved using Naive Bayes is: \"+str(score_nb)+\" %\")"
   ]
  },
  {
   "cell_type": "markdown",
   "metadata": {},
   "source": [
    "SVM"
   ]
  },
  {
   "cell_type": "code",
   "execution_count": 40,
   "metadata": {},
   "outputs": [],
   "source": [
    "from sklearn import svm\n",
    "\n",
    "sv = svm.SVC(kernel='linear')\n",
    "\n",
    "sv.fit(X_train, Y_train)\n",
    "\n",
    "Y_pred_svm = sv.predict(X_test)"
   ]
  },
  {
   "cell_type": "code",
   "execution_count": 41,
   "metadata": {},
   "outputs": [
    {
     "data": {
      "text/plain": [
       "(15,)"
      ]
     },
     "execution_count": 41,
     "metadata": {},
     "output_type": "execute_result"
    }
   ],
   "source": [
    "Y_pred_svm.shape"
   ]
  },
  {
   "cell_type": "code",
   "execution_count": 42,
   "metadata": {},
   "outputs": [
    {
     "name": "stdout",
     "output_type": "stream",
     "text": [
      "The accuracy score achieved using Linear SVM is: 60.0 %\n"
     ]
    }
   ],
   "source": [
    "score_svm = round(accuracy_score(Y_pred_svm,Y_test)*100,2)\n",
    "\n",
    "print(\"The accuracy score achieved using Linear SVM is: \"+str(score_svm)+\" %\")"
   ]
  },
  {
   "cell_type": "markdown",
   "metadata": {},
   "source": [
    "KNN\n"
   ]
  },
  {
   "cell_type": "code",
   "execution_count": 43,
   "metadata": {},
   "outputs": [],
   "source": [
    "from sklearn.neighbors import KNeighborsClassifier\n",
    "\n",
    "knn = KNeighborsClassifier(n_neighbors=7)\n",
    "knn.fit(X_train,Y_train)\n",
    "Y_pred_knn=knn.predict(X_test)"
   ]
  },
  {
   "cell_type": "code",
   "execution_count": 44,
   "metadata": {},
   "outputs": [
    {
     "data": {
      "text/plain": [
       "(15,)"
      ]
     },
     "execution_count": 44,
     "metadata": {},
     "output_type": "execute_result"
    }
   ],
   "source": [
    "Y_pred_knn.shape"
   ]
  },
  {
   "cell_type": "code",
   "execution_count": 45,
   "metadata": {},
   "outputs": [
    {
     "name": "stdout",
     "output_type": "stream",
     "text": [
      "The accuracy score achieved using KNN is: 66.67 %\n"
     ]
    }
   ],
   "source": [
    "score_knn = round(accuracy_score(Y_pred_knn,Y_test)*100,2)\n",
    "\n",
    "print(\"The accuracy score achieved using KNN is: \"+str(score_knn)+\" %\")"
   ]
  },
  {
   "cell_type": "markdown",
   "metadata": {},
   "source": [
    "Decision Tree"
   ]
  },
  {
   "cell_type": "code",
   "execution_count": 46,
   "metadata": {},
   "outputs": [
    {
     "name": "stdout",
     "output_type": "stream",
     "text": [
      "(15,)\n"
     ]
    }
   ],
   "source": [
    "from sklearn.tree import DecisionTreeClassifier\n",
    "\n",
    "max_accuracy = 0\n",
    "\n",
    "\n",
    "for x in range(200):\n",
    "    dt = DecisionTreeClassifier(random_state=x)\n",
    "    dt.fit(X_train,Y_train)\n",
    "    Y_pred_dt = dt.predict(X_test)\n",
    "    current_accuracy = round(accuracy_score(Y_pred_dt,Y_test)*100,2)\n",
    "    if(current_accuracy>max_accuracy):\n",
    "        max_accuracy = current_accuracy\n",
    "        best_x = x\n",
    "        \n",
    "#print(max_accuracy)\n",
    "#print(best_x)\n",
    "\n",
    "\n",
    "dt = DecisionTreeClassifier(random_state=best_x)\n",
    "dt.fit(X_train,Y_train)\n",
    "Y_pred_dt = dt.predict(X_test)\n",
    "print(Y_pred_dt.shape)\n"
   ]
  },
  {
   "cell_type": "code",
   "execution_count": 47,
   "metadata": {},
   "outputs": [
    {
     "name": "stdout",
     "output_type": "stream",
     "text": [
      "The accuracy score achieved using Decision Tree is: 46.67 %\n"
     ]
    }
   ],
   "source": [
    "score_dt = round(accuracy_score(Y_pred_dt,Y_test)*100,2)\n",
    "\n",
    "print(\"The accuracy score achieved using Decision Tree is: \"+str(score_dt)+\" %\")"
   ]
  },
  {
   "cell_type": "markdown",
   "metadata": {},
   "source": [
    "Random Forest"
   ]
  },
  {
   "cell_type": "code",
   "execution_count": 48,
   "metadata": {},
   "outputs": [
    {
     "name": "stdout",
     "output_type": "stream",
     "text": [
      "80.0\n",
      "338\n"
     ]
    }
   ],
   "source": [
    "from sklearn.ensemble import RandomForestClassifier\n",
    "\n",
    "max_accuracy = 0\n",
    "\n",
    "\n",
    "for x in range(2000):\n",
    "    rf = RandomForestClassifier(random_state=x)\n",
    "    rf.fit(X_train,Y_train)\n",
    "    Y_pred_rf = rf.predict(X_test)\n",
    "    current_accuracy = round(accuracy_score(Y_pred_rf,Y_test)*100,2)\n",
    "    if(current_accuracy>max_accuracy):\n",
    "        max_accuracy = current_accuracy\n",
    "        best_x = x\n",
    "        \n",
    "print(max_accuracy)\n",
    "print(best_x)\n",
    "\n",
    "rf = RandomForestClassifier(random_state=best_x)\n",
    "rf.fit(X_train,Y_train)\n",
    "Y_pred_rf = rf.predict(X_test)"
   ]
  },
  {
   "cell_type": "code",
   "execution_count": 49,
   "metadata": {},
   "outputs": [
    {
     "data": {
      "text/plain": [
       "(15,)"
      ]
     },
     "execution_count": 49,
     "metadata": {},
     "output_type": "execute_result"
    }
   ],
   "source": [
    "Y_pred_rf.shape"
   ]
  },
  {
   "cell_type": "code",
   "execution_count": 50,
   "metadata": {},
   "outputs": [
    {
     "name": "stdout",
     "output_type": "stream",
     "text": [
      "The accuracy score achieved using Random Forest is: 80.0 %\n"
     ]
    }
   ],
   "source": [
    "\n",
    "score_rf = round(accuracy_score(Y_pred_rf,Y_test)*100,2)\n",
    "\n",
    "print(\"The accuracy score achieved using Random Forest is: \"+str(score_rf)+\" %\")"
   ]
  },
  {
   "cell_type": "markdown",
   "metadata": {},
   "source": [
    "XGBoost"
   ]
  },
  {
   "cell_type": "code",
   "execution_count": 51,
   "metadata": {},
   "outputs": [
    {
     "name": "stdout",
     "output_type": "stream",
     "text": [
      "[14:15:50] WARNING: C:/Users/Administrator/workspace/xgboost-win64_release_1.4.0/src/learner.cc:1095: Starting in XGBoost 1.3.0, the default evaluation metric used with the objective 'multi:softprob' was changed from 'merror' to 'mlogloss'. Explicitly set eval_metric if you'd like to restore the old behavior.\n"
     ]
    }
   ],
   "source": [
    "import xgboost as xgb\n",
    "\n",
    "xgb_model = xgb.XGBClassifier(objective=\"binary:logistic\", random_state=42)\n",
    "xgb_model.fit(X_train, Y_train)\n",
    "\n",
    "Y_pred_xgb = xgb_model.predict(X_test)"
   ]
  },
  {
   "cell_type": "code",
   "execution_count": 52,
   "metadata": {},
   "outputs": [
    {
     "data": {
      "text/plain": [
       "(15,)"
      ]
     },
     "execution_count": 52,
     "metadata": {},
     "output_type": "execute_result"
    }
   ],
   "source": [
    "Y_pred_xgb.shape\n"
   ]
  },
  {
   "cell_type": "code",
   "execution_count": 53,
   "metadata": {},
   "outputs": [
    {
     "name": "stdout",
     "output_type": "stream",
     "text": [
      "The accuracy score achieved using XGBoost is: 53.33 %\n"
     ]
    }
   ],
   "source": [
    "score_xgb = round(accuracy_score(Y_pred_xgb,Y_test)*100,2)\n",
    "\n",
    "print(\"The accuracy score achieved using XGBoost is: \"+str(score_xgb)+\" %\")"
   ]
  },
  {
   "cell_type": "code",
   "execution_count": 54,
   "metadata": {},
   "outputs": [
    {
     "name": "stdout",
     "output_type": "stream",
     "text": [
      "The accuracy score achieved using Logistic Regression is: 60.0 %\n",
      "The accuracy score achieved using Naive Bayes is: 40.0 %\n",
      "The accuracy score achieved using Support Vector Machine is: 60.0 %\n",
      "The accuracy score achieved using K-Nearest Neighbors is: 66.67 %\n",
      "The accuracy score achieved using Decision Tree is: 46.67 %\n",
      "The accuracy score achieved using Random Forest is: 80.0 %\n",
      "The accuracy score achieved using XGBoost is: 53.33 %\n"
     ]
    }
   ],
   "source": [
    "scores = [score_lr,score_nb,score_svm,score_knn,score_dt,score_rf,score_xgb]\n",
    "algorithms = [\"Logistic Regression\",\"Naive Bayes\",\"Support Vector Machine\",\"K-Nearest Neighbors\",\"Decision Tree\",\"Random Forest\",\"XGBoost\"]    \n",
    "\n",
    "for i in range(len(algorithms)):\n",
    "    print(\"The accuracy score achieved using \"+algorithms[i]+\" is: \"+str(scores[i])+\" %\")"
   ]
  },
  {
   "cell_type": "code",
   "execution_count": 55,
   "metadata": {},
   "outputs": [
    {
     "data": {
      "text/plain": [
       "<AxesSubplot:xlabel='Algorithms', ylabel='Accuracy score'>"
      ]
     },
     "execution_count": 55,
     "metadata": {},
     "output_type": "execute_result"
    },
    {
     "data": {
      "image/png": "[encoded data removed]",
      "text/plain": [
       "<Figure size 1080x576 with 1 Axes>"
      ]
     },
     "metadata": {},
     "output_type": "display_data"
    }
   ],
   "source": [
    "sns.set(rc={'figure.figsize':(15,8)})\n",
    "plt.xlabel(\"Algorithms\")\n",
    "plt.ylabel(\"Accuracy score\")\n",
    "\n",
    "sns.barplot(algorithms,scores)"
   ]
  },
  {
   "cell_type": "code",
   "execution_count": null,
   "metadata": {},
   "outputs": [],
   "source": []
  }
 ],
 "metadata": {
  "kernelspec": {
   "display_name": "Python 3",
   "language": "python",
   "name": "python3"
  },
  "language_info": {
   "codemirror_mode": {
    "name": "ipython",
    "version": 3
   },
   "file_extension": ".py",
   "mimetype": "text/x-python",
   "name": "python",
   "nbconvert_exporter": "python",
   "pygments_lexer": "ipython3",
   "version": "3.8.5"
  }
 },
 "nbformat": 4,
 "nbformat_minor": 4
}
